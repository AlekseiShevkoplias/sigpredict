{
 "cells": [
  {
   "cell_type": "code",
   "execution_count": 1,
   "metadata": {},
   "outputs": [],
   "source": [
    "import os \n",
    "import json\n",
    "import shutil\n",
    "import glob\n",
    "import itertools \n",
    "\n",
    "import pandas as pd\n",
    "import numpy as np\n",
    "\n",
    "import torch\n",
    "import torch.nn.functional as F\n",
    "import torch.optim as optim\n",
    "import torch.nn as nn\n",
    "from torch.utils.data import DataLoader, Dataset"
   ]
  },
  {
   "cell_type": "code",
   "execution_count": 2,
   "metadata": {},
   "outputs": [],
   "source": [
    "import torch.utils.tensorboard as tensorboard"
   ]
  },
  {
   "cell_type": "code",
   "execution_count": 4,
   "metadata": {},
   "outputs": [
    {
     "ename": "AttributeError",
     "evalue": "module 'torch.utils.tensorboard' has no attribute 'event_processing'",
     "output_type": "error",
     "traceback": [
      "\u001b[0;31m---------------------------------------------------------------------------\u001b[0m",
      "\u001b[0;31mAttributeError\u001b[0m                            Traceback (most recent call last)",
      "\u001b[0;32m<ipython-input-4-d3b86ab2d8c3>\u001b[0m in \u001b[0;36m<module>\u001b[0;34m\u001b[0m\n\u001b[0;32m----> 1\u001b[0;31m \u001b[0mtensorboard\u001b[0m\u001b[0;34m.\u001b[0m\u001b[0mevent_processing\u001b[0m\u001b[0;34m.\u001b[0m\u001b[0mevent_accumulator\u001b[0m\u001b[0;34m.\u001b[0m\u001b[0mEventAccumulator\u001b[0m\u001b[0;34m\u001b[0m\u001b[0;34m\u001b[0m\u001b[0m\n\u001b[0m",
      "\u001b[0;31mAttributeError\u001b[0m: module 'torch.utils.tensorboard' has no attribute 'event_processing'"
     ]
    }
   ],
   "source": [
    "tensorboard.summary.event_processing.event_accumulator.EventAccumulator"
   ]
  },
  {
   "cell_type": "code",
   "execution_count": null,
   "metadata": {},
   "outputs": [],
   "source": [
    "from tensorflow.python.summary import event_accumulator as ea"
   ]
  },
  {
   "cell_type": "code",
   "execution_count": 111,
   "metadata": {},
   "outputs": [],
   "source": [
    "class NocturnFinal(nn.Module):\n",
    "    def __init__(self):\n",
    "        super().__init__()\n",
    "        self.Conv1 = nn.Conv1d(in_channels=4, out_channels=16, kernel_size=8)\n",
    "        self.Conv2 = nn.Conv1d(in_channels=16, out_channels=64, kernel_size=8)\n",
    "        self.Conv3 = nn.Conv1d(in_channels=64, out_channels=960, kernel_size=8)\n",
    "        self.Maxpool = nn.MaxPool1d(kernel_size=4, stride=4)\n",
    "        self.Drop2 = nn.Dropout(p=0.5)\n",
    "        self.Linear1 = nn.Linear(21120, 32)\n",
    "        self.Drop1 = nn.Dropout(p=0.2)\n",
    "        self.Linear2 = nn.Linear(32, 1)\n",
    "        \n",
    "    def forward(self, x):\n",
    "        res = self.Conv1(x)\n",
    "        res = F.leaky_relu(res)\n",
    "        res = self.Maxpool(res)\n",
    "        res = self.Drop1(res)\n",
    "        res = self.Conv2(res)\n",
    "        res = F.leaky_relu(res)\n",
    "        res = self.Drop1(res)\n",
    "        res = self.Maxpool(res)\n",
    "        res = self.Conv3(res)\n",
    "        res = F.leaky_relu(res)\n",
    "        res = self.Drop2(res)\n",
    "        res = res.view(res.shape[0], -1)\n",
    "        res = self.Linear1(res)\n",
    "        res = F.leaky_relu(res)\n",
    "        res = self.Linear2(res)\n",
    "        #res = torch.sigmoid(res)\n",
    "        res = res.view(-1)\n",
    "        return res"
   ]
  },
  {
   "cell_type": "code",
   "execution_count": 132,
   "metadata": {},
   "outputs": [],
   "source": [
    "class MajorSimple(nn.Module):\n",
    "    def __init__(self):\n",
    "        super().__init__()\n",
    "        self.Conv1 = nn.Conv1d(in_channels=4, out_channels=128, kernel_size=8)\n",
    "        self.Conv2 = nn.Conv1d(in_channels=128, out_channels=128, kernel_size=8)\n",
    "        self.Conv3 = nn.Conv1d(in_channels=128, out_channels=1, kernel_size=4)\n",
    "        self.Maxpool = nn.MaxPool1d(kernel_size=4)\n",
    "        self.Linear1 = nn.Linear(26, 8)\n",
    "        self.Linear2 = nn.Linear(8, 1)\n",
    "        \n",
    "    def forward(self, x):\n",
    "        res = self.Conv1(x)\n",
    "        res = F.leaky_relu(res)\n",
    "        res = self.Maxpool(res)\n",
    "        res = self.Conv2(res)\n",
    "        res = F.leaky_relu(res)\n",
    "        res = self.Maxpool(res)\n",
    "        res = self.Conv3(res)\n",
    "        res = F.leaky_relu(res)\n",
    "\n",
    "        res = res.view(res.shape[0], -1)\n",
    "        res = self.Linear1(res)\n",
    "        res = F.leaky_relu(res)\n",
    "        res = self.Linear2(res)\n",
    "        res = F.sigmoid(res)\n",
    "\n",
    "\n",
    "\n",
    "        res = res.view(-1)\n",
    "        return res"
   ]
  },
  {
   "cell_type": "code",
   "execution_count": 159,
   "metadata": {},
   "outputs": [],
   "source": [
    "class MajorSimple_unGC(nn.Module):\n",
    "    def __init__(self):\n",
    "        super().__init__()\n",
    "        self.Conv1 = nn.Conv1d(in_channels=4, out_channels=128, kernel_size=8)\n",
    "        self.Conv2 = nn.Conv1d(in_channels=128, out_channels=128, kernel_size=8)\n",
    "        self.Conv3 = nn.Conv1d(in_channels=128, out_channels=1, kernel_size=4)\n",
    "        self.Maxpool = nn.MaxPool1d(kernel_size=4)\n",
    "        self.Linear1 = nn.Linear(26, 8)\n",
    "        self.Linear2 = nn.Linear(8, 1)\n",
    "        \n",
    "    def forward(self, x):\n",
    "        res = self.Conv1(x)\n",
    "        res = F.leaky_relu(res)\n",
    "        res = self.Maxpool(res)\n",
    "        res = self.Conv2(res)\n",
    "        res = F.leaky_relu(res)\n",
    "        res = self.Maxpool(res)\n",
    "        res = self.Conv3(res)\n",
    "        res = F.leaky_relu(res)\n",
    "\n",
    "        res = res.view(res.shape[0], -1)\n",
    "        res = self.Linear1(res)\n",
    "        res = F.leaky_relu(res)\n",
    "        res = self.Linear2(res)\n",
    "        res = F.sigmoid(res)\n",
    "\n",
    "\n",
    "\n",
    "        res = res.view(-1)\n",
    "        return res"
   ]
  },
  {
   "cell_type": "code",
   "execution_count": 162,
   "metadata": {},
   "outputs": [],
   "source": [
    "class ExpDimaDataset(Dataset):\n",
    "    def __init__(self,\n",
    "                 genome_file,\n",
    "                 #y_file,\n",
    "                 window = 501, \n",
    "                 n_sequences = 10000\n",
    "                ):\n",
    "        self.genome_file = genome_file\n",
    "        #self.y_file = y_file\n",
    "        self.window = window\n",
    "        self.n_sequences = n_sequences\n",
    "\n",
    "        if window is None:\n",
    "            window = 501\n",
    "    def __len__(self):\n",
    "        return self.n_sequences\n",
    "    def __getitem__(self, idx):\n",
    "\n",
    "        genome = np.memmap(self.genome_file, \n",
    "                           dtype='float32', mode='r', \n",
    "                           shape=(4,self.n_sequences*self.window)\n",
    "                          )\n",
    "        encoseq = np.zeros((4, self.window), dtype='float32')\n",
    "        \n",
    "        encoseq[:] = genome[:4,(self.window*idx):self.window*(idx+1)]\n",
    "        #ys = np.memmap(self.y_file, \n",
    "        #                   dtype='float32', mode='r', \n",
    "        #                   shape=(self.n_sequences)\n",
    "        #                  )\n",
    "        #signal = float(ys[idx])\n",
    "        return torch.Tensor(encoseq).view(4, -1)#, torch.FloatTensor([signal])\n",
    "\n"
   ]
  },
  {
   "cell_type": "code",
   "execution_count": 186,
   "metadata": {},
   "outputs": [],
   "source": [
    "class ExpBeerDataset(Dataset):\n",
    "    def __init__(self,\n",
    "                 genome_file,\n",
    "                 #y_file,\n",
    "                 window = 500, \n",
    "                 n_sequences = 10000\n",
    "                ):\n",
    "        self.genome_file = genome_file\n",
    "        #self.y_file = y_file\n",
    "        self.window = window\n",
    "        self.n_sequences = n_sequences\n",
    "\n",
    "        if window is None:\n",
    "            window = 500\n",
    "    def __len__(self):\n",
    "        return self.n_sequences\n",
    "    def __getitem__(self, idx):\n",
    "\n",
    "        genome = np.memmap(self.genome_file, \n",
    "                           dtype='float32', mode='r', \n",
    "                           shape=(4,self.n_sequences*self.window)\n",
    "                          )\n",
    "        encoseq = np.zeros((4, self.window), dtype='float32')\n",
    "        \n",
    "        encoseq[:] = genome[:4,(self.window*idx):self.window*(idx+1)]\n",
    "        #ys = np.memmap(self.y_file, \n",
    "        #                   dtype='float32', mode='r', \n",
    "        #                   shape=(self.n_sequences)\n",
    "        #                  )\n",
    "        #signal = float(ys[idx])\n",
    "        return torch.Tensor(encoseq).view(4, -1)#, torch.FloatTensor([signal])\n",
    "\n"
   ]
  },
  {
   "cell_type": "code",
   "execution_count": 112,
   "metadata": {},
   "outputs": [
    {
     "data": {
      "text/plain": [
       "NocturnFinal(\n",
       "  (Conv1): Conv1d(4, 16, kernel_size=(8,), stride=(1,))\n",
       "  (Conv2): Conv1d(16, 64, kernel_size=(8,), stride=(1,))\n",
       "  (Conv3): Conv1d(64, 960, kernel_size=(8,), stride=(1,))\n",
       "  (Maxpool): MaxPool1d(kernel_size=4, stride=4, padding=0, dilation=1, ceil_mode=False)\n",
       "  (Drop2): Dropout(p=0.5, inplace=False)\n",
       "  (Linear1): Linear(in_features=21120, out_features=32, bias=True)\n",
       "  (Drop1): Dropout(p=0.2, inplace=False)\n",
       "  (Linear2): Linear(in_features=32, out_features=1, bias=True)\n",
       ")"
      ]
     },
     "execution_count": 112,
     "metadata": {},
     "output_type": "execute_result"
    }
   ],
   "source": [
    "model = NocturnFinal()\n",
    "model.load_state_dict(torch.load(\"models/nocturn_final2/model_60\"))\n",
    "model.eval()"
   ]
  },
  {
   "cell_type": "code",
   "execution_count": 136,
   "metadata": {},
   "outputs": [
    {
     "data": {
      "text/plain": [
       "MajorSimple(\n",
       "  (Conv1): Conv1d(4, 128, kernel_size=(8,), stride=(1,))\n",
       "  (Conv2): Conv1d(128, 128, kernel_size=(8,), stride=(1,))\n",
       "  (Conv3): Conv1d(128, 1, kernel_size=(4,), stride=(1,))\n",
       "  (Maxpool): MaxPool1d(kernel_size=4, stride=4, padding=0, dilation=1, ceil_mode=False)\n",
       "  (Linear1): Linear(in_features=26, out_features=8, bias=True)\n",
       "  (Linear2): Linear(in_features=8, out_features=1, bias=True)\n",
       ")"
      ]
     },
     "execution_count": 136,
     "metadata": {},
     "output_type": "execute_result"
    }
   ],
   "source": [
    "model = MajorSimple()\n",
    "model.load_state_dict(torch.load(\"models/Major_HepG2_balancedGC_final3/model_70\"))\n",
    "model.eval()"
   ]
  },
  {
   "cell_type": "code",
   "execution_count": 165,
   "metadata": {},
   "outputs": [
    {
     "data": {
      "text/plain": [
       "MajorSimple_unGC(\n",
       "  (Conv1): Conv1d(4, 128, kernel_size=(8,), stride=(1,))\n",
       "  (Conv2): Conv1d(128, 128, kernel_size=(8,), stride=(1,))\n",
       "  (Conv3): Conv1d(128, 1, kernel_size=(4,), stride=(1,))\n",
       "  (Maxpool): MaxPool1d(kernel_size=4, stride=4, padding=0, dilation=1, ceil_mode=False)\n",
       "  (Linear1): Linear(in_features=26, out_features=8, bias=True)\n",
       "  (Linear2): Linear(in_features=8, out_features=1, bias=True)\n",
       ")"
      ]
     },
     "execution_count": 165,
     "metadata": {},
     "output_type": "execute_result"
    }
   ],
   "source": [
    "model = MajorSimple_unGC()\n",
    "model.load_state_dict(torch.load(\"models/Major_HepG2_unbalancedGC_final11/model_15\"))\n",
    "model.eval()"
   ]
  },
  {
   "cell_type": "code",
   "execution_count": 187,
   "metadata": {},
   "outputs": [
    {
     "data": {
      "text/plain": [
       "MajorSimple(\n",
       "  (Conv1): Conv1d(4, 128, kernel_size=(8,), stride=(1,))\n",
       "  (Conv2): Conv1d(128, 128, kernel_size=(8,), stride=(1,))\n",
       "  (Conv3): Conv1d(128, 1, kernel_size=(4,), stride=(1,))\n",
       "  (Maxpool): MaxPool1d(kernel_size=4, stride=4, padding=0, dilation=1, ceil_mode=False)\n",
       "  (Linear1): Linear(in_features=26, out_features=8, bias=True)\n",
       "  (Linear2): Linear(in_features=8, out_features=1, bias=True)\n",
       ")"
      ]
     },
     "execution_count": 187,
     "metadata": {},
     "output_type": "execute_result"
    }
   ],
   "source": [
    "model = MajorSimple()\n",
    "model.load_state_dict(torch.load(\"models/Major_HepG2_Beer_final4/model_20\"))\n",
    "model.eval()"
   ]
  },
  {
   "cell_type": "code",
   "execution_count": 163,
   "metadata": {},
   "outputs": [],
   "source": [
    "ref = ExpDimaDataset(genome_file = \"data/\" + \\\n",
    "        '21066_ref_DIMA.dat', \n",
    "        n_sequences = 21066)\n",
    "dlref = DataLoader(ref, batch_size=32, num_workers=0, shuffle=False)\n",
    "\n",
    "mut = ExpDimaDataset(genome_file = \"data/\" + \\\n",
    "       '21066_mutated_DIMA.dat', \n",
    "        n_sequences = 21066)\n",
    "dlmut = DataLoader(mut, batch_size=32, num_workers=0, shuffle=False)"
   ]
  },
  {
   "cell_type": "code",
   "execution_count": 189,
   "metadata": {},
   "outputs": [],
   "source": [
    "ref = ExpBeerDataset(genome_file = \"data/\" + \\\n",
    "        '21066_ref_BEER.dat', \n",
    "        n_sequences = 21066)\n",
    "dlref = DataLoader(ref, batch_size=32, num_workers=0, shuffle=False)\n",
    "\n",
    "mut = ExpBeerDataset(genome_file = \"data/\" + \\\n",
    "       '21066_mutated_BEER.dat', \n",
    "        n_sequences = 21066)\n",
    "dlmut = DataLoader(mut, batch_size=32, num_workers=0, shuffle=False)"
   ]
  },
  {
   "cell_type": "code",
   "execution_count": 190,
   "metadata": {},
   "outputs": [
    {
     "name": "stderr",
     "output_type": "stream",
     "text": [
      "/home/tools/python/Python-3.7.4/lib/python3.7/site-packages/torch/nn/functional.py:1350: UserWarning: nn.functional.sigmoid is deprecated. Use torch.sigmoid instead.\n",
      "  warnings.warn(\"nn.functional.sigmoid is deprecated. Use torch.sigmoid instead.\")\n"
     ]
    }
   ],
   "source": [
    "score_for_batches = []\n",
    "with torch.no_grad():\n",
    "    for x_ref, x_mut in zip(dlref, dlmut):\n",
    "        score = model(x_ref) - model(x_mut)\n",
    "        score_for_batches.append(score)"
   ]
  },
  {
   "cell_type": "code",
   "execution_count": 191,
   "metadata": {},
   "outputs": [],
   "source": [
    "y_score = torch.cat(score_for_batches)"
   ]
  },
  {
   "cell_type": "code",
   "execution_count": 192,
   "metadata": {},
   "outputs": [
    {
     "data": {
      "text/plain": [
       "array([ 0.        , -0.03425658, -0.00800943, ..., -0.01503647,\n",
       "       -0.01238424, -0.0321542 ], dtype=float32)"
      ]
     },
     "execution_count": 192,
     "metadata": {},
     "output_type": "execute_result"
    }
   ],
   "source": [
    "y_score = y_score.detach().numpy()\n",
    "y_score"
   ]
  },
  {
   "cell_type": "code",
   "execution_count": 117,
   "metadata": {},
   "outputs": [],
   "source": [
    "import pandas as pd"
   ]
  },
  {
   "cell_type": "code",
   "execution_count": 193,
   "metadata": {},
   "outputs": [],
   "source": [
    "score_df = pd.DataFrame({\"score\":y_score})"
   ]
  },
  {
   "cell_type": "code",
   "execution_count": 51,
   "metadata": {},
   "outputs": [],
   "source": [
    "?df.to_csv"
   ]
  },
  {
   "cell_type": "code",
   "execution_count": 119,
   "metadata": {},
   "outputs": [],
   "source": [
    "score_df.to_csv(\"score.tsv\", sep=\"\\t\")"
   ]
  },
  {
   "cell_type": "markdown",
   "metadata": {},
   "source": [
    "Plot the correlation"
   ]
  },
  {
   "cell_type": "code",
   "execution_count": 54,
   "metadata": {},
   "outputs": [],
   "source": [
    "import pandas as pd\n",
    "import numpy as np\n",
    "import matplotlib.pyplot as plt\n",
    "plt.style.use('classic')\n",
    "%matplotlib inline\n",
    "import os\n",
    "import math"
   ]
  },
  {
   "cell_type": "code",
   "execution_count": 121,
   "metadata": {},
   "outputs": [],
   "source": [
    "df = pd.read_csv(\"all_cagi_data.tsv\", delimiter=\"\\t\")\n",
    "con =  \"F9\""
   ]
  },
  {
   "cell_type": "code",
   "execution_count": 141,
   "metadata": {},
   "outputs": [
    {
     "data": {
      "text/plain": [
       "(21066, 8)"
      ]
     },
     "execution_count": 141,
     "metadata": {},
     "output_type": "execute_result"
    }
   ],
   "source": [
    "df.shape"
   ]
  },
  {
   "cell_type": "code",
   "execution_count": 103,
   "metadata": {},
   "outputs": [],
   "source": [
    "def show_sig(c, sig_name='Value', color='red', facecolor=None, linealpha=0.5, alpha=0.5):\n",
    "    plt.plot(c['Pos'], c[sig_name], color, alpha=linealpha)\n",
    "    if facecolor is not None:\n",
    "        plt.fill_between(c['Pos'], c[sig_name], 0, facecolor=facecolor, alpha=alpha)\n",
    "\n",
    "def prep_db(df, reg, con, sig_name='Value', color=\"red\", facecolor=None, linealpha=0.5, alpha=0.5):\n",
    "    ddf = df[df.construction == con]\n",
    "    \n",
    "    if reg == 'max':\n",
    "        c = ddf.groupby(['Pos']).max()\n",
    "    elif reg == 'min':\n",
    "        c = ddf.groupby(['Pos']).min()\n",
    "    elif reg == 'mean':\n",
    "        c = ddf.groupby(['Pos']).mean()\n",
    "    else:\n",
    "        print('Wrong enter')\n",
    "    \n",
    "    c['Pos'] = c.index\n",
    "    show_sig(c, sig_name, color, facecolor, linealpha, alpha)\n"
   ]
  },
  {
   "cell_type": "code",
   "execution_count": 142,
   "metadata": {},
   "outputs": [],
   "source": [
    "import seaborn as sns\n",
    "from scipy import stats\n",
    "sns.set()\n",
    "#df['Value_Abs'] = np.abs(df['Value'])\n",
    "def corrfunc(x, y, **kws):\n",
    "    r, _ = stats.pearsonr(x, y)\n",
    "    ax = plt.gca()\n",
    "    ax.annotate(\"r = {:.2f}\".format(r),\n",
    "                xy=(.8, .85), xycoords=ax.transAxes)\n",
    "ddf = df[df.construction == con]\n",
    "ddf = pd.DataFrame(ddf, columns=[\"Value\"])"
   ]
  },
  {
   "cell_type": "code",
   "execution_count": 195,
   "metadata": {},
   "outputs": [],
   "source": [
    "df[\"Score_major_beer\"] = score_df[\"score\"]"
   ]
  },
  {
   "cell_type": "code",
   "execution_count": 152,
   "metadata": {},
   "outputs": [],
   "source": [
    "df[\"Score_major\"] = df[\"Score_major\"] * 100"
   ]
  },
  {
   "cell_type": "code",
   "execution_count": 196,
   "metadata": {
    "scrolled": true
   },
   "outputs": [],
   "source": [
    "ddf = df[df.construction == con]"
   ]
  },
  {
   "cell_type": "code",
   "execution_count": 218,
   "metadata": {},
   "outputs": [
    {
     "name": "stderr",
     "output_type": "stream",
     "text": [
      "/home/pdd/.local/lib/python3.7/site-packages/ipykernel_launcher.py:1: SettingWithCopyWarning: \n",
      "A value is trying to be set on a copy of a slice from a DataFrame.\n",
      "Try using .loc[row_indexer,col_indexer] = value instead\n",
      "\n",
      "See the caveats in the documentation: http://pandas.pydata.org/pandas-docs/stable/user_guide/indexing.html#returning-a-view-versus-a-copy\n",
      "  \"\"\"Entry point for launching an IPython kernel.\n"
     ]
    }
   ],
   "source": [
    "ddf[\"VC\"] = ddf[\"Value\"] * ddf[\"Confidence\"]"
   ]
  },
  {
   "cell_type": "code",
   "execution_count": 219,
   "metadata": {
    "scrolled": true
   },
   "outputs": [
    {
     "data": {
      "text/plain": [
       "<bound method NDFrame.head of      Chrom        Pos Ref Alt  Value  Confidence construction  Score_nocturn  \\\n",
       "0        X  138612669   T   A  -0.17        0.07           F9      -0.185043   \n",
       "1        X  138612669   T   C  -0.26        0.24           F9      -0.357388   \n",
       "2        X  138612669   T   G   0.34        0.05           F9      -0.268763   \n",
       "3        X  138612670   A   C   0.00        0.00           F9      -0.073958   \n",
       "4        X  138612670   A   G   0.22        0.20           F9       0.000000   \n",
       "...    ...        ...  ..  ..    ...         ...          ...            ...   \n",
       "5302     X  138612907   A   C  -0.11        0.01           F9       0.000000   \n",
       "5303     X  138612907   A   T  -0.02        0.01           F9      -0.072289   \n",
       "5304     X  138612908   T   C  -0.12        0.01           F9       0.000000   \n",
       "5305     X  138612908   T   A  -0.13        0.08           F9       0.201151   \n",
       "5306     X  138612908   T   G  -0.61        0.05           F9       0.134042   \n",
       "\n",
       "      Score_major  Score_major_ungc  Score_major_beer      VC  \n",
       "0        0.450211         -0.013801          0.000000 -0.0119  \n",
       "1       -2.307277         -0.083005         -0.034257 -0.0624  \n",
       "2       -0.399735         -0.015897         -0.008009  0.0170  \n",
       "3       -0.753716         -0.009063         -0.062212  0.0000  \n",
       "4        0.000000          0.000000         -0.033911  0.0440  \n",
       "...           ...               ...               ...     ...  \n",
       "5302     0.000000          0.000000          0.039690 -0.0011  \n",
       "5303   -15.986541         -0.029554          0.041292 -0.0002  \n",
       "5304     0.000000          0.000000          0.000000 -0.0012  \n",
       "5305    -5.614501         -0.006702          0.017632 -0.0104  \n",
       "5306   -26.744884         -0.010696          0.010548 -0.0305  \n",
       "\n",
       "[904 rows x 12 columns]>"
      ]
     },
     "execution_count": 219,
     "metadata": {},
     "output_type": "execute_result"
    }
   ],
   "source": [
    "ddf.head"
   ]
  },
  {
   "cell_type": "code",
   "execution_count": 198,
   "metadata": {},
   "outputs": [],
   "source": [
    "ddf.to_csv(\"ddf.tsv\", sep=\"\\t\")"
   ]
  },
  {
   "cell_type": "code",
   "execution_count": 199,
   "metadata": {},
   "outputs": [
    {
     "data": {
      "text/plain": [
       "<Figure size 432x288 with 0 Axes>"
      ]
     },
     "metadata": {},
     "output_type": "display_data"
    }
   ],
   "source": [
    "sns.despine(left=True)\n",
    "sns.set_style(\"ticks\")\n"
   ]
  },
  {
   "cell_type": "code",
   "execution_count": 225,
   "metadata": {},
   "outputs": [
    {
     "data": {
      "image/png": "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\n",
      "text/plain": [
       "<Figure size 864x576 with 1 Axes>"
      ]
     },
     "metadata": {},
     "output_type": "display_data"
    }
   ],
   "source": [
    "plt.figure(figsize=(12,8))\n",
    "sns.set_style(\"whitegrid\")\n",
    "sns.regplot(ddf['Value'], ddf['Score_major_beer'], scatter_kws={\"alpha\":0.1}, color = 'darkred')\n",
    "corrfunc(ddf['Value'], ddf['Score_major_beer'])\n",
    "\n",
    "font = {'family' : 'normal',\n",
    "        'size'   : 30}\n",
    "plt.rc('font', **font)\n",
    "plt.xlabel ('Change of expression', {'size': 20})\n",
    "plt.ylabel ('Neural Net prediction', {'size': 20})\n",
    "plt.title ('F9', {'size': 25})\n",
    "plt.savefig('pictures/F9_Score_major_beer.png', dpi = 1200)"
   ]
  },
  {
   "cell_type": "code",
   "execution_count": 221,
   "metadata": {},
   "outputs": [
    {
     "data": {
      "text/plain": [
       "Text(0.5, 1.0, 'F9')"
      ]
     },
     "execution_count": 221,
     "metadata": {},
     "output_type": "execute_result"
    },
    {
     "data": {
      "image/png": "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\n",
      "text/plain": [
       "<Figure size 864x576 with 1 Axes>"
      ]
     },
     "metadata": {},
     "output_type": "display_data"
    }
   ],
   "source": [
    "plt.figure(figsize=(12,8))\n",
    "sns.set_style(\"whitegrid\")\n",
    "sns.regplot(ddf['VC'], ddf['Score_major_ungc'], scatter_kws={\"alpha\":0.1}, color = 'darkorange')\n",
    "corrfunc(ddf['VC'], ddf['Score_major_ungc'])\n".
    "font = {'family' : 'normal',\n",
    "        'size'   : 15}\n",
    "plt.rc('font', **font)\n",
    "plt.xlabel ('VC', {'size': 15})\n",
    "plt.ylabel ('Score_major_ungc', {'size': 15})\n",
    "plt.title ('F9', {'size': 17})\n",
    "#plt.savefig('pictures/F9_Score_major_beer.png', dpi = 1200)"
   ]
  },
  {
   "cell_type": "code",
   "execution_count": 134,
   "metadata": {},
   "outputs": [],
   "source": [
    "os.mkdir(\"pictures\")"
   ]
  },
  {
   "cell_type": "code",
   "execution_count": null,
   "metadata": {},
   "outputs": [],
   "source": []
  }
 ],
 "metadata": {
  "kernelspec": {
   "display_name": "Python 3",
   "language": "python",
   "name": "python3"
  },
  "language_info": {
   "codemirror_mode": {
    "name": "ipython",
    "version": 3
   },
   "file_extension": ".py",
   "mimetype": "text/x-python",
   "name": "python",
   "nbconvert_exporter": "python",
   "pygments_lexer": "ipython3",
   "version": "3.7.4"
  }
 },
 "nbformat": 4,
 "nbformat_minor": 2
}
